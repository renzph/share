{
 "cells": [
  {
   "cell_type": "markdown",
   "metadata": {},
   "source": [
    "# Faster fingerprint screening in rdkit\n",
    "I recently played around with fingerprint based substructure screens.\n",
    "I found that `DataStructs.AllProbeBitsMatch` is rather slow and that \n",
    "converting the fingerprint to a python integer (arbitrary size)\n",
    "and using bitwise operations on it gives the same results in less time.\n",
    "https://github.com/rdkit/rdkit/blob/master/Regress/Scripts/fingerprint_screenout.py"
   ]
  },
  {
   "cell_type": "code",
   "execution_count": 82,
   "metadata": {
    "ExecuteTime": {
     "end_time": "2021-08-17T08:21:51.720181Z",
     "start_time": "2021-08-17T08:21:51.233949Z"
    }
   },
   "outputs": [],
   "source": [
    "!wget -q -nc https://raw.githubusercontent.com/greglandrum/rdkit_blog/master/data/chembl21_25K.pairs.txt.gz \n",
    "!wget -q -nc https://raw.githubusercontent.com/greglandrum/rdkit_blog/master/data/zinc.frags.500.q.smi\n",
    "!wget -q -nc https://raw.githubusercontent.com/greglandrum/rdkit_blog/master/data/zinc.leads.500.q.smi\n",
    "!wget -q -nc https://raw.githubusercontent.com/greglandrum/rdkit_blog/master/data/fragqueries.q.txt\n",
    "    "
   ]
  },
  {
   "cell_type": "code",
   "execution_count": 83,
   "metadata": {
    "ExecuteTime": {
     "end_time": "2021-08-17T08:21:52.736448Z",
     "start_time": "2021-08-17T08:21:52.733938Z"
    }
   },
   "outputs": [],
   "source": [
    "import time\n",
    "import gzip\n",
    "import rdkit\n",
    "from rdkit import Chem\n",
    "from rdkit import DataStructs\n",
    "from rdkit.Chem import AllChem\n",
    "import os\n",
    "rdkit_data = './'"
   ]
  },
  {
   "cell_type": "code",
   "execution_count": 84,
   "metadata": {
    "ExecuteTime": {
     "end_time": "2021-08-17T08:22:02.134213Z",
     "start_time": "2021-08-17T08:21:54.165769Z"
    }
   },
   "outputs": [],
   "source": [
    "# Get a list of test molecules\n",
    "mols = []\n",
    "with gzip.open(os.path.join(rdkit_data, 'chembl21_25K.pairs.txt.gz'), 'rb') as inf:\n",
    "    for line in inf:\n",
    "        line = line.decode().strip().split()\n",
    "        smi1 = line[1]\n",
    "        smi2 = line[3]\n",
    "        mols.append(Chem.MolFromSmiles(smi1))\n",
    "        mols.append(Chem.MolFromSmiles(smi2))"
   ]
  },
  {
   "cell_type": "code",
   "execution_count": 85,
   "metadata": {
    "ExecuteTime": {
     "end_time": "2021-08-17T08:22:02.291881Z",
     "start_time": "2021-08-17T08:22:02.135498Z"
    }
   },
   "outputs": [
    {
     "name": "stdout",
     "output_type": "stream",
     "text": [
      "frags 501\n",
      "leads 501\n",
      "pieces 824\n"
     ]
    }
   ],
   "source": [
    "# Load test substructures\n",
    "name2fn = {'frags': 'zinc.frags.500.q.smi',\n",
    "           'leads': 'zinc.leads.500.q.smi',\n",
    "           'pieces': 'fragqueries.q.txt'}\n",
    "\n",
    "queries = {}\n",
    "for name, fn in name2fn.items():\n",
    "    with open(os.path.join(rdkit_data, fn), 'r') as f:\n",
    "        smiles = [s.split('\\t')[0] for s in f.read().split('\\n')]\n",
    "        ms = [Chem.MolFromSmiles(s) for s in smiles]\n",
    "        print(name, len(smiles))\n",
    "        queries[name] = ms"
   ]
  },
  {
   "cell_type": "code",
   "execution_count": null,
   "metadata": {
    "ExecuteTime": {
     "end_time": "2021-08-17T08:22:21.235461Z",
     "start_time": "2021-08-17T08:22:02.958593Z"
    }
   },
   "outputs": [],
   "source": [
    "# calculate fingerprints for molecules. these are ExplicitBitVect objects\n",
    "mol_ebvs = [Chem.PatternFingerprint(m,2048) for m in mols]"
   ]
  },
  {
   "cell_type": "code",
   "execution_count": 11,
   "metadata": {
    "ExecuteTime": {
     "end_time": "2021-08-16T12:28:29.489900Z",
     "start_time": "2021-08-16T12:28:29.112798Z"
    }
   },
   "outputs": [],
   "source": [
    "# calculate fingerprints for substructures. these are ExplicitBitVect objects\n",
    "name2ebvs = {}\n",
    "for name, ms in queries.items():\n",
    "    name2ebvs[name] = [Chem.PatternFingerprint(m, 2048) for m in ms]"
   ]
  },
  {
   "cell_type": "code",
   "execution_count": 13,
   "metadata": {
    "ExecuteTime": {
     "end_time": "2021-08-16T12:28:51.766183Z",
     "start_time": "2021-08-16T12:28:50.946267Z"
    }
   },
   "outputs": [],
   "source": [
    "# convert ebvs to python integers\n",
    "def ebvs2int(ebvs):\n",
    "    return [int(e.ToBitString(), base=2) for e in ebvs]\n",
    "\n",
    "name2ints = {name: ebvs2int(ebvs) for name, ebvs in name2ebvs.items()}\n",
    "mol_ints = ebvs2int(mol_ebvs)"
   ]
  },
  {
   "cell_type": "markdown",
   "metadata": {},
   "source": [
    "## Full substructure search"
   ]
  },
  {
   "cell_type": "code",
   "execution_count": 29,
   "metadata": {
    "ExecuteTime": {
     "end_time": "2021-08-16T12:52:31.356173Z",
     "start_time": "2021-08-16T12:50:08.388045Z"
    }
   },
   "outputs": [],
   "source": [
    "from time import time\n",
    "# DataStructs.AllProbeBitsMatch\n",
    "results = []\n",
    "for screen_only in [True, False]: # if true exact substructure match is skipped.\n",
    "    for name, query_mols in queries.items(): \n",
    "        imatch = []\n",
    "        jmatch = []\n",
    "        t0 = time()\n",
    "        query_ebvs = name2ebvs[name]\n",
    "        for i, mol_ebv in enumerate(mol_ebvs):\n",
    "            for j, query_ebv in enumerate(query_ebvs):\n",
    "                if DataStructs.AllProbeBitsMatch(query_ebv, mol_ebv):\n",
    "                    if screen_only or mols[i].HasSubstructMatch(query_mols[j]):\n",
    "                        imatch.append(i)\n",
    "                        jmatch.append(j)\n",
    "        duration = time() - t0\n",
    "        \n",
    "        results.append({\n",
    "            'screen_method': 'apbm',\n",
    "            'screen_only': screen_only,\n",
    "            'query_set': name,\n",
    "            'matches': (imatch, jmatch),\n",
    "            'duration': duration\n",
    "        })"
   ]
  },
  {
   "cell_type": "code",
   "execution_count": 37,
   "metadata": {
    "ExecuteTime": {
     "end_time": "2021-08-16T12:55:42.799313Z",
     "start_time": "2021-08-16T12:54:54.527710Z"
    }
   },
   "outputs": [],
   "source": [
    "for screen_only in [True, False]:\n",
    "    for name, query_mols in queries.items():\n",
    "        imatch = []\n",
    "        jmatch = []\n",
    "        t0 = time()\n",
    "        query_ints = name2ints[name]\n",
    "        for i, mol_int in enumerate(mol_ints):\n",
    "            for j, q_int in enumerate(query_ints):\n",
    "                if (q_int & mol_int) == q_int:\n",
    "                    if screen_only or mols[i].HasSubstructMatch(query_mols[j]):\n",
    "                        imatch.append(i)\n",
    "                        jmatch.append(j)\n",
    "        duration = time() - t0\n",
    "        \n",
    "        results.append(\n",
    "            {'screen_method': 'int',\n",
    "             'screen_only': screen_only,\n",
    "             'query_set': name,\n",
    "             'matches': (imatch, jmatch),\n",
    "             'duration': duration\n",
    "            })"
   ]
  },
  {
   "cell_type": "code",
   "execution_count": 96,
   "metadata": {
    "ExecuteTime": {
     "end_time": "2021-08-17T08:26:41.480658Z",
     "start_time": "2021-08-17T08:26:41.352581Z"
    }
   },
   "outputs": [
    {
     "data": {
      "text/html": [
       "<div>\n",
       "<style scoped>\n",
       "    .dataframe tbody tr th:only-of-type {\n",
       "        vertical-align: middle;\n",
       "    }\n",
       "\n",
       "    .dataframe tbody tr th {\n",
       "        vertical-align: top;\n",
       "    }\n",
       "\n",
       "    .dataframe thead th {\n",
       "        text-align: right;\n",
       "    }\n",
       "</style>\n",
       "<table border=\"1\" class=\"dataframe\">\n",
       "  <thead>\n",
       "    <tr style=\"text-align: right;\">\n",
       "      <th></th>\n",
       "      <th>screen_only</th>\n",
       "      <th>query_set</th>\n",
       "      <th>duration_apbm</th>\n",
       "      <th>duration_int</th>\n",
       "      <th>speedup</th>\n",
       "    </tr>\n",
       "  </thead>\n",
       "  <tbody>\n",
       "    <tr>\n",
       "      <th>0</th>\n",
       "      <td>True</td>\n",
       "      <td>frags</td>\n",
       "      <td>16.812480</td>\n",
       "      <td>4.071757</td>\n",
       "      <td>4.129048</td>\n",
       "    </tr>\n",
       "    <tr>\n",
       "      <th>1</th>\n",
       "      <td>True</td>\n",
       "      <td>leads</td>\n",
       "      <td>17.210873</td>\n",
       "      <td>3.957238</td>\n",
       "      <td>4.349213</td>\n",
       "    </tr>\n",
       "    <tr>\n",
       "      <th>2</th>\n",
       "      <td>True</td>\n",
       "      <td>pieces</td>\n",
       "      <td>30.277018</td>\n",
       "      <td>8.124406</td>\n",
       "      <td>3.726675</td>\n",
       "    </tr>\n",
       "    <tr>\n",
       "      <th>3</th>\n",
       "      <td>False</td>\n",
       "      <td>frags</td>\n",
       "      <td>16.699876</td>\n",
       "      <td>4.255016</td>\n",
       "      <td>3.924751</td>\n",
       "    </tr>\n",
       "    <tr>\n",
       "      <th>4</th>\n",
       "      <td>False</td>\n",
       "      <td>leads</td>\n",
       "      <td>16.804592</td>\n",
       "      <td>4.111600</td>\n",
       "      <td>4.087117</td>\n",
       "    </tr>\n",
       "    <tr>\n",
       "      <th>5</th>\n",
       "      <td>False</td>\n",
       "      <td>pieces</td>\n",
       "      <td>45.135765</td>\n",
       "      <td>23.746885</td>\n",
       "      <td>1.900703</td>\n",
       "    </tr>\n",
       "  </tbody>\n",
       "</table>\n",
       "</div>"
      ],
      "text/plain": [
       "   screen_only query_set  duration_apbm  duration_int   speedup\n",
       "0         True     frags      16.812480      4.071757  4.129048\n",
       "1         True     leads      17.210873      3.957238  4.349213\n",
       "2         True    pieces      30.277018      8.124406  3.726675\n",
       "3        False     frags      16.699876      4.255016  3.924751\n",
       "4        False     leads      16.804592      4.111600  4.087117\n",
       "5        False    pieces      45.135765     23.746885  1.900703"
      ]
     },
     "execution_count": 96,
     "metadata": {},
     "output_type": "execute_result"
    }
   ],
   "source": [
    "import pandas as pd\n",
    "\n",
    "\n",
    "df_apbm = pd.DataFrame(results[:6]) # results for AllProbeBitsMatch\n",
    "df_int = pd.DataFrame(results[6:]) # results for integer implementation\n",
    "df = df_apbm.merge(df_int, on=('query_set', 'screen_only'), suffixes=('_apbm', '_int')) # merge\n",
    "\n",
    "# check if results agree\n",
    "for a,b in zip(df['matches_apbm'], df['matches_int']):\n",
    "    assert a == b\n",
    "\n",
    "df['speedup'] = df['duration_apbm'] / df['duration_int']\n",
    "df[['screen_only', 'query_set', 'duration_apbm', 'duration_int', 'speedup']]"
   ]
  },
  {
   "cell_type": "markdown",
   "metadata": {},
   "source": [
    "For the screen only this gives a speedup of about 4x.\n",
    "If the exact matching is also included the speedup is still high showing that `AllProbeBitsMatch` takes up quite a lot of time."
   ]
  }
 ],
 "metadata": {
  "kernelspec": {
   "display_name": "sygras",
   "language": "python",
   "name": "sygras"
  },
  "language_info": {
   "codemirror_mode": {
    "name": "ipython",
    "version": 3
   },
   "file_extension": ".py",
   "mimetype": "text/x-python",
   "name": "python",
   "nbconvert_exporter": "python",
   "pygments_lexer": "ipython3",
   "version": "3.7.6"
  }
 },
 "nbformat": 4,
 "nbformat_minor": 4
}
